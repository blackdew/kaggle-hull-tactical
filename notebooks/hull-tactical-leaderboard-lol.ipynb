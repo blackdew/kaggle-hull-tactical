{
 "cells": [
  {
   "cell_type": "code",
   "execution_count": 1,
   "metadata": {
    "tags": [
     "env-setup"
    ]
   },
   "outputs": [],
   "source": [
    "# Ensure repo root is importable (for kaggle_evaluation)\n",
    "import sys, os\n",
    "repo_root = os.path.abspath(os.path.join(os.getcwd(), '..'))\n",
    "if repo_root not in sys.path:\n",
    "    sys.path.insert(0, repo_root)\n"
   ]
  },
  {
   "cell_type": "markdown",
   "metadata": {},
   "source": [
    "이 컨테스트에서는 모든 테스트 데이터가 훈련 세트에 포함되어 있어 리더보드가 실제로는 중요하지 않습니다. 단순히 \"미래\" 시장 행동에 대한 완벽한 지식이 있다면 메트릭의 최대 가능 점수가 얼마인지 궁금했고, 평가 메트릭이 어떻게 작동하는지 더 잘 이해하고 싶었습니다."
   ]
  },
  {
   "cell_type": "markdown",
   "metadata": {},
   "source": [
    "(그리고 비록 짧은 시간이었지만, 내 인생에서 적어도 한 번은 리더보드 1위에 오르는 것도 재미있었습니다 =)"
   ]
  },
  {
   "cell_type": "markdown",
   "metadata": {},
   "source": [
    "업데이트: 실제로는 고정된 전략(미래 가격도 알고 있는)으로, 제가 찾은 최선의 방법은 손실이 나는 날은 건너뛰고, 수익이 나는 날에는 약 0.1 정도의 지분을 반환하는 것입니다(새 버전에서 이를 명확히 했습니다).\n",
    "\n",
    "이 전략을 더 유연한 것으로 개선할 수 있다고 생각하지만, 아직 그 방법을 찾지 못했습니다.\n",
    "\n",
    "이 문제가 해결된다면, 완벽한 결과를 달성하기 위해서는 오직 하나의 작은 세부사항만 남을 것입니다 — 시장의 행동을 완전히 예측하는 것 😂"
   ]
  },
  {
   "cell_type": "code",
   "execution_count": 3,
   "metadata": {
    "_cell_guid": "b1076dfc-b9ad-4769-8c92-a6c4dae69d19",
    "_uuid": "8f2839f25d086af736a60e9eeb907d3b93b6e0e5"
   },
   "outputs": [],
   "source": [
    "import os\n",
    "\n",
    "import pandas as pd\n",
    "import polars as pl\n",
    "from pathlib import Path\n",
    "\n",
    "import kaggle_evaluation.default_inference_server\n",
    "\n",
    "# 데이터 경로 설정\n",
    "DATA_PATH: Path = Path('../data/')\n",
    "\n",
    "# 실제 타겟 값들 로드\n",
    "_true_train_df = pl.read_csv(DATA_PATH / \"train.csv\").select([\"date_id\", \"forward_returns\"])\n",
    "\n",
    "# 날짜별 실제 수익률 딕셔너리 생성\n",
    "true_targets = {\n",
    "    int(d): float(v)\n",
    "    for d, v in zip(\n",
    "        _true_train_df[\"date_id\"].to_numpy(),\n",
    "        _true_train_df[\"forward_returns\"].to_numpy()\n",
    "    )\n",
    "}\n",
    "\n",
    "\n",
    "def predict(test: pl.DataFrame) -> float:\n",
    "    \"\"\"예측 함수: 실제 수익률이 양수면 0.09, 음수면 0.0 반환\"\"\"\n",
    "    date_id = int(test.select(\"date_id\").to_series().item())\n",
    "    t = true_targets.get(date_id, None)    \n",
    "    return 0.09 if t > 0 else 0.0\n",
    "\n",
    "\n",
    "# 추론 서버 설정\n",
    "inference_server = kaggle_evaluation.default_inference_server.DefaultInferenceServer(predict)\n",
    "\n",
    "if os.getenv('KAGGLE_IS_COMPETITION_RERUN'):\n",
    "    inference_server.serve()\n",
    "else:\n",
    "    inference_server.run_local_gateway(('../data/',))"
   ]
  },
  {
   "cell_type": "code",
   "execution_count": null,
   "metadata": {},
   "outputs": [],
   "source": []
  }
 ],
 "metadata": {
  "kaggle": {
   "accelerator": "none",
   "dataSources": [
    {
     "databundleVersionId": 13750964,
     "sourceId": 111543,
     "sourceType": "competition"
    }
   ],
   "dockerImageVersionId": 31089,
   "isGpuEnabled": false,
   "isInternetEnabled": false,
   "language": "python",
   "sourceType": "notebook"
  },
  "kernelspec": {
   "display_name": "Python 3 (ipykernel)",
   "language": "python",
   "name": "python3"
  },
  "language_info": {
   "codemirror_mode": {
    "name": "ipython",
    "version": 3
   },
   "file_extension": ".py",
   "mimetype": "text/x-python",
   "name": "python",
   "nbconvert_exporter": "python",
   "pygments_lexer": "ipython3",
   "version": "3.11.13"
  }
 },
 "nbformat": 4,
 "nbformat_minor": 4
}
