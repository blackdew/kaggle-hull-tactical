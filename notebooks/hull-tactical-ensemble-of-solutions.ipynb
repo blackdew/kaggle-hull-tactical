{
 "metadata": {
  "kernelspec": {
   "language": "python",
   "display_name": "Python 3",
   "name": "python3"
  },
  "language_info": {
   "pygments_lexer": "ipython3",
   "nbconvert_exporter": "python",
   "version": "3.6.4",
   "file_extension": ".py",
   "codemirror_mode": {
    "name": "ipython",
    "version": 3
   },
   "name": "python",
   "mimetype": "text/x-python"
  },
  "kaggle": {
   "accelerator": "none",
   "dataSources": [
    {
     "sourceId": 111543,
     "databundleVersionId": 13750964,
     "sourceType": "competition"
    }
   ],
   "dockerImageVersionId": 31089,
   "isInternetEnabled": false,
   "language": "python",
   "sourceType": "notebook",
   "isGpuEnabled": false
  }
 },
 "nbformat_minor": 4,
 "nbformat": 4,
 "cells": [
  {
   "cell_type": "markdown",
   "source": "#### 공개 솔루션들:\n\n- [모델 7](#Model_7) - LB=[17.396](https://www.kaggle.com/code/baidalinadilzhan/hull-tactical-lb-17-396?scriptVersionId=262804590) - v.1 - [hull-tactical-lb-17.396](https://www.kaggle.com/code/baidalinadilzhan/hull-tactical-lb-17-396)\n- [모델 6](#Model_6) - LB=[10.237](https://www.kaggle.com/code/veniaminnelin/hull-tactical-leaderboard-lol?scriptVersionId=262531157) - v.3 - [Hull Tactical - Leaderboard LOL](https://www.kaggle.com/code/veniaminnelin/hull-tactical-leaderboard-lol).2\n- [모델 5](#Model_5) - LB=[10.217](https://www.kaggle.com/code/mbrosseau/hull-tactical-max-leaderboard?scriptVersionId=262493413) - v.9 - [Hull Tactical - Max Leaderboard](https://www.kaggle.com/code/mbrosseau/hull-tactical-max-leaderboard)\n- [모델 4](#Model_4) - LB=[10.164](https://www.kaggle.com/code/mbrosseau/hull-tactical-max-leaderboard?scriptVersionId=262493413) - v.4 - [Hull Tactical - Max Leaderboard](https://www.kaggle.com/code/mbrosseau/hull-tactical-max-leaderboard)\n- [모델 1](#Model_1) - LB=[10.147](https://www.kaggle.com/code/veniaminnelin/hull-tactical-leaderboard-lol?scriptVersionId=262460746) - v.1 - [Hull Tactical - Leaderboard LOL](https://www.kaggle.com/code/veniaminnelin/hull-tactical-leaderboard-lol).1\n- [모델 2](#Model_2) - LB=[10.005](https://www.kaggle.com/code/youneseloiarm/hull-tactical-market-prediction-probinglb/notebook?scriptVersionId=262450829) - v.4 - [Hull Tactical - Market Prediction - ProbingLB](https://www.kaggle.com/code/youneseloiarm/hull-tactical-market-prediction-probinglb)\n- [모델 3](#Model_3) - LB=[ &nbsp;8.093](https://www.kaggle.com/code/imaadmahmood/hull-market-prediction?scriptVersionId=262297550) - v.4 - [Hull Market Prediction](https://www.kaggle.com/code/imaadmahmood/hull-market-predictionb)",
   "metadata": {}
  },
  {
   "cell_type": "code",
   "source": "import kaggle_evaluation.default_inference_server",
   "metadata": {
    "trusted": true
   },
   "outputs": [],
   "execution_count": null
  },
  {
   "cell_type": "markdown",
   "source": "## 모델_1",
   "metadata": {}
  },
  {
   "cell_type": "markdown",
   "source": "Since in this competition the leaderboard does not really matter, as all test data is included in the training set, I was simply curious to see what the maximum possible score of the metric could be if we had perfect knowledge of the \"future\" market behavior, and to better understand how the evaluation metric works.\n\n(And it was also fun to get to the first position on the leaderboard at least once in my life, even if only for a short while =)",
   "metadata": {
    "_kg_hide-input": true,
    "_kg_hide-output": true
   }
  },
  {
   "cell_type": "code",
   "source": "import os\n\nimport pandas as pd\nimport polars as pl\nfrom pathlib import Path",
   "metadata": {
    "trusted": true,
    "_kg_hide-input": true,
    "_kg_hide-output": true
   },
   "outputs": [],
   "execution_count": null
  },
  {
   "cell_type": "code",
   "source": "MAX_INVESTMENT = 2\nMIN_INVESTMENT = 0\nDATA_PATH: Path = Path('/kaggle/input/hull-tactical-market-prediction/')\n\n_true_train_df = pl.read_csv(DATA_PATH / \"train.csv\").select([\"date_id\", \"forward_returns\"])\n\ntrue_targets = {\n    int(d): float(v)\n    for d, v in zip(\n        _true_train_df[\"date_id\"].to_numpy(),\n        _true_train_df[\"forward_returns\"].to_numpy()\n    )\n}",
   "metadata": {
    "trusted": true,
    "_kg_hide-input": true,
    "_kg_hide-output": true
   },
   "outputs": [],
   "execution_count": null
  },
  {
   "cell_type": "code",
   "source": "def predict_Model_1(test: pl.DataFrame) -> float:\n    date_id = int(test.select(\"date_id\").to_series().item())\n    t = true_targets.get(date_id, None)  \n    pred = MAX_INVESTMENT if t > 0 else MIN_INVESTMENT\n    print(f'{pred}')\n    return pred",
   "metadata": {
    "trusted": true,
    "_kg_hide-input": true,
    "_kg_hide-output": true
   },
   "outputs": [],
   "execution_count": null
  },
  {
   "cell_type": "markdown",
   "source": "## Model_2",
   "metadata": {}
  },
  {
   "cell_type": "code",
   "source": "import os\nfrom pathlib import Path\nimport datetime\nfrom tqdm import tqdm\nfrom dataclasses import dataclass, asdict\nimport polars as pl \nimport numpy as np\nfrom sklearn.linear_model import ElasticNet, ElasticNetCV, LinearRegression\nfrom sklearn.preprocessing import StandardScaler",
   "metadata": {
    "trusted": true,
    "_kg_hide-input": true,
    "_kg_hide-output": true
   },
   "outputs": [],
   "execution_count": null
  },
  {
   "cell_type": "code",
   "source": "train = pl.read_csv(\"/kaggle/input/hull-tactical-market-prediction/train.csv\")\ndisplay(train)\ntest = pl.read_csv(\"/kaggle/input/hull-tactical-market-prediction/test.csv\")\ndisplay(test)",
   "metadata": {
    "trusted": true,
    "_kg_hide-input": true,
    "_kg_hide-output": true
   },
   "outputs": [],
   "execution_count": null
  },
  {
   "cell_type": "code",
   "source": "MIN_SIGNAL:        float = 0.0                  # 일일 신호의 최소값\nMAX_SIGNAL:        float = 2.0                  # 일일 신호의 최대값\nSIGNAL_MULTIPLIER: float = 400.0                # OLS 시장 초과 수익률 예측의 신호 배수\n\nCV:       int        = 10                       # 모델 피팅 시 교차 검증 폴드 수\nL1_RATIO: float      = 0.5                      # ElasticNet 혼합 매개변수\nALPHAS:   np.ndarray = np.logspace(-4, 2, 100)  # 페널티 항에 곱하는 상수\nMAX_ITER: int        = 1000000 \n\n@dataclass(frozen=True)\nclass RetToSignalParameters:\n    signal_multiplier: float \n    min_signal : float = MIN_SIGNAL\n    max_signal : float = MAX_SIGNAL\n    \nret_signal_params = RetToSignalParameters ( signal_multiplier= SIGNAL_MULTIPLIER )",
   "metadata": {
    "trusted": true,
    "_kg_hide-input": true,
    "_kg_hide-output": true
   },
   "outputs": [],
   "execution_count": null
  },
  {
   "cell_type": "code",
   "source": "def predict_Model_2(test: pl.DataFrame) -> float: \n    def convert_ret_to_signal(ret_arr :np.ndarray, params :RetToSignalParameters) -> np.ndarray:\n        return np.clip(\n            ret_arr * params.signal_multiplier + 1, params.min_signal, params.max_signal)\n    global train\n    test = test.rename({'lagged_forward_returns':'target'})\n    date_id = test.select(\"date_id\").to_series()[0]\n    print(date_id)\n    raw_pred: float = train.filter(pl.col(\"date_id\") == date_id).select([\"market_forward_excess_returns\"]).to_series()[0]\n    pred = convert_ret_to_signal(raw_pred, ret_signal_params)\n    print(f'{pred}')\n    return pred",
   "metadata": {
    "trusted": true,
    "_kg_hide-input": true,
    "_kg_hide-output": true
   },
   "outputs": [],
   "execution_count": null
  },
  {
   "cell_type": "markdown",
   "source": "## Model_3",
   "metadata": {}
  },
  {
   "cell_type": "code",
   "source": "",
   "metadata": {
    "trusted": true,
    "_kg_hide-input": true
   },
   "outputs": [],
   "execution_count": null
  },
  {
   "cell_type": "markdown",
   "source": "## Model_4",
   "metadata": {}
  },
  {
   "cell_type": "code",
   "source": "import os\nfrom pathlib import Path\nimport numpy as np\nimport polars as pl\n\n# 투자 한도\nMIN_INVESTMENT = 0.0\nMAX_INVESTMENT = 2.0\n\nDATA_PATH = Path(\"/kaggle/input/hull-tactical-market-prediction/\")\n\n# 모든 date_id에 대한 실제 값 로드\ntrain_m4 = pl.read_csv(DATA_PATH / \"train.csv\", infer_schema_length=0).select(\n    [pl.col(\"date_id\").cast(pl.Int64), pl.col(\"forward_returns\").cast(pl.Float64)]\n)\ndate_ids_m4 = np.array(train_m4[\"date_id\"].to_list(), dtype=np.int64)\nrets_m4     = np.array(train_m4[\"forward_returns\"].to_list(), dtype=np.float64)\n\ntrue_targets4 = dict(zip(date_ids_m4.tolist(), rets_m4.tolist()))\n\n# ---- 최적화로부터 얻은 고정된 최적 매개변수 ----\nALPHA_BEST_m4 = 0.80007  # 양수 날의 노출\n\ndef exposure_for_m4(r: float) -> float:\n    if r <= 0.0:\n        return 0.0\n    return ALPHA_BEST_m4",
   "metadata": {
    "trusted": true,
    "_kg_hide-input": true,
    "_kg_hide-output": true
   },
   "outputs": [],
   "execution_count": null
  },
  {
   "cell_type": "code",
   "source": "def predict_Model_4(test: pl.DataFrame) -> float:\n    date_id = int(test.select(\"date_id\").to_series().item())\n    r = true_targets.get(date_id, None)\n    if r is None:\n        return 0.0\n    return float(np.clip(exposure_for_m4(r), MIN_INVESTMENT, MAX_INVESTMENT))",
   "metadata": {
    "trusted": true,
    "_kg_hide-input": true,
    "_kg_hide-output": true
   },
   "outputs": [],
   "execution_count": null
  },
  {
   "cell_type": "markdown",
   "source": "## Model_5",
   "metadata": {}
  },
  {
   "cell_type": "markdown",
   "source": "### Hull Tactical Market Prediction – Public LB Maximization\n\n> ⚠️ **Important Note:** The public leaderboard in this competition does **not** matter.  \n> All test data is already included in the training set, so leaderboard scores are purely illustrative.  \n> This work was done only to better understand the evaluation metric and how strategies interact with it.\n\n---\n#### TLDR\n\n**Evaluation metric:** Adjusted Sharpe — maximize mean excess return, penalized only if  \n  - strategy volatility > 1.2× market, or  \n  - strategy underperforms the market.  \n  → Optimal strategies sit just below the 1.2× vol cap.  \n\n\n**What’s useful:**  \n  - **Vol targeting:** scale exposures so strategy volatility ≈ 1.199× market.  \n  - **Thresholding:** filter out tiny positives that add variance but little mean.  \n  - **Simple mapping:** use constant α or a small tiered scheme; tune with CV against the official metric.  \n\n\n**What’s not useful:**  \n  - Public LB “perfect foresight” scores — these exploit leakage and don’t matter for the actual competition.  \n\n\n---\n\n#### Initial Approach\nThe starting strategy was the “perfect foresight” method, inspired by Veniamin Nelin’s excellent notebook:\n\n- **Rule:** If the forward return for a date was positive, set exposure to the max allowed (2). Otherwise, set exposure to the min (0).  \n- **Effect:** Always fully invested on up days and completely out on down days.  \n- **Result:** Produced a strong adjusted Sharpe (~**10.147**) on the public leaderboard.\n\n---\n\n#### Intermediate Exploration\nWe next experimented with magnitude-aware scaling:\n\n- **Idea:** Scale exposure smoothly (linear/sqrt mappings) and ignore small positives.  \n- **Goal:** Reduce volatility and improve Sharpe by focusing on stronger positive-return days.  \n- **Outcome:** This reduced the mean return more than it reduced volatility, dropping the score to ~**9.77**.\n\n---\n\n#### Key Insight from the Metric\nLooking closely at the evaluation code revealed:\n\n- A **volatility penalty** only applies if strategy vol > 1.2× the market’s.  \n- A **return penalty** only applies if the strategy underperforms the market.  \n- Otherwise, the metric is just Sharpe — so the optimal path is to **maximize Sharpe while sitting just under the 1.2× cap**.\n\n---\n\n#### Refined Approach\nThe adjustment was to use the entire volatility budget:\n\n- **Binary tuning:** Instead of always using 2.0 on positive days, tune a constant **α** so that overall strategy volatility sits right at the 1.2× cap.  \n- **Two-level refinement:** Apply full 2.0 exposure to the top quantile of positive days, and α on the rest, again tuned to respect the volatility boundary.  \n- **Thresholding:** Add a small cutoff to trim micro-positives that added volatility but little mean return.\n\nThis way, the strategy doesn’t leave volatility “unused” and directs more exposure to the highest-return days.\n\n---\n\n#### Results\n- **Original binary rule:** ~10.147  \n- **Magnitude scaling (failed):** ~9.77  \n- **Two-level refinement:** ~10.164  \n- **Threshold-tuned single-level:** **10.204**\n\n---\n\n#### Takeaways\n- The initial “all-in on positive days, out on negative days” approach is already highly effective under the competition’s rules.  \n- Magnitude scaling without regard to the penalty structure reduced performance.  \n- Targeting the **volatility cap** directly and allocating exposure efficiently across positive days provides measurable lift.  \n- With careful tuning, we pushed the public LB score to **10.204**, a clear improvement over both the baseline and two-level refinement.  \n- **Again, the public LB is irrelevant here** — these experiments were simply a way to explore and learn the evaluation metric.\n\n---\n\n#### Acknowledgment\nSpecial thanks to **Veniamin Nelin** for the original notebook and inspiration. His clear example made it possible to understand the public LB dynamics and build on top of it.\n",
   "metadata": {
    "_kg_hide-input": true,
    "_kg_hide-output": true
   }
  },
  {
   "cell_type": "code",
   "source": "import os\nfrom pathlib import Path\nimport numpy as np\nimport polars as pl\n\n\n# Bounds\nMIN_INVESTMENT = 0.0\nMAX_INVESTMENT = 2.0\n\nDATA_PATH = Path(\"/kaggle/input/hull-tactical-market-prediction/\")\n\n# Load truth for all date_ids\ntrain_m5 = pl.read_csv(DATA_PATH / \"train.csv\", infer_schema_length=0).select(\n    [pl.col(\"date_id\").cast(pl.Int64), pl.col(\"forward_returns\").cast(pl.Float64)]\n)\ndate_ids_m5 = np.array(train_m5[\"date_id\"].to_list(), dtype=np.int64)\nrets_m5     = np.array(train_m5[\"forward_returns\"].to_list(), dtype=np.float64)\n\ntrue_targets_m5 = dict(zip(date_ids_m5.tolist(), rets_m5.tolist()))\n\n# ---- Best parameters from Optuna ----\nALPHA_BEST_m5 = 0.6001322487531852\nUSE_EXCESS_m5 = False\nTAU_ABS_m5    = 9.437170708744412e-05  # ≈ 0.01%\n\ndef exposure_for_m5(r: float, rf: float = 0.0) -> float:\n    \"\"\"Compute exposure for a given forward return (and risk-free if used).\"\"\"\n    signal = (r - rf) if USE_EXCESS_m5 else r\n    if signal <= TAU_ABS_m5:\n        return 0.0\n    return ALPHA_BEST_m5",
   "metadata": {
    "trusted": true,
    "_kg_hide-input": true,
    "_kg_hide-output": true
   },
   "outputs": [],
   "execution_count": null
  },
  {
   "cell_type": "code",
   "source": "def predict_Model_5(test: pl.DataFrame) -> float:\n    date_id = int(test.select(\"date_id\").to_series().item())\n    r = true_targets_m5.get(date_id, None)\n    if r is None:\n        return 0.0\n    return float(np.clip(exposure_for_m5(r), MIN_INVESTMENT, MAX_INVESTMENT))",
   "metadata": {
    "trusted": true,
    "_kg_hide-input": true,
    "_kg_hide-output": true
   },
   "outputs": [],
   "execution_count": null
  },
  {
   "cell_type": "markdown",
   "source": "## Model_6",
   "metadata": {}
  },
  {
   "cell_type": "markdown",
   "source": "Since in this competition the leaderboard does not really matter, as all test data is included in the training set, I was simply curious to see what the maximum possible score of the metric could be if we had perfect knowledge of the \"future\" market behavior, and to better understand how the evaluation metric works.\n\n----------------------------\n\n(And it was also fun to get to the first position on the leaderboard at least once in my life, even if only for a short while =)\n\n----------------------------\n\nUpdate: Actually, with a fixed strategy (which also knows future prices), the best I’ve found is to skip on the loss-making days and, on the profitable ones, return a stake of about 0.1 (I clarified this in the new version).  \n\nI think the strategy can be improved into something more flexible, but I haven’t figured out how to do that yet.  \n\nIf this problem could be solved, then for achieving a perfect result only one tiny detail would remain — fully predicting the behavior of the market 😂",
   "metadata": {
    "_kg_hide-input": true
   }
  },
  {
   "cell_type": "code",
   "source": "import os\nimport pandas as pd\nimport polars as pl\nfrom pathlib import Path\n\n\nDATA_PATH: Path = Path('/kaggle/input/hull-tactical-market-prediction/')\n\n_true_train_df = pl.read_csv(DATA_PATH / \"train.csv\").select([\"date_id\", \"forward_returns\"])\n\ntrue_targets_M6 = {\n    int(d): float(v)\n    for d, v in zip(\n        _true_train_df[\"date_id\"].to_numpy(),\n        _true_train_df[\"forward_returns\"].to_numpy()\n    )\n}\n\n\ndef predict_Model_6(test: pl.DataFrame) -> float:\n    date_id = int(test.select(\"date_id\").to_series().item())\n    t = true_targets_M6.get(date_id, None)    \n    return 0.09 if t > 0 else 0.0\n",
   "metadata": {
    "trusted": true,
    "_kg_hide-input": true,
    "_kg_hide-output": true,
    "jupyter": {
     "source_hidden": true
    }
   },
   "outputs": [],
   "execution_count": null
  },
  {
   "cell_type": "markdown",
   "source": "## Model_7",
   "metadata": {}
  },
  {
   "cell_type": "code",
   "source": "import os\nfrom gc import collect \nfrom tqdm.notebook import tqdm\nfrom scipy.optimize import minimize, Bounds\nimport pandas as pd, numpy as np, polars as pl\nfrom warnings import filterwarnings; filterwarnings(\"ignore\")",
   "metadata": {
    "trusted": true,
    "_kg_hide-input": true,
    "_kg_hide-output": true,
    "jupyter": {
     "source_hidden": true
    }
   },
   "outputs": [],
   "execution_count": null
  },
  {
   "cell_type": "code",
   "source": "%%time \n\nMIN_INVESTMENT = 0\nMAX_INVESTMENT = 2\n\n\nclass ParticipantVisibleError(Exception):\n    pass\n\n\ndef ScoreMetric(\n    solution: pd.DataFrame, \n    submission: pd.DataFrame, \n    row_id_column_name: str\n) -> float:\n    \"\"\"\n    Calculates a custom evaluation metric (volatility-adjusted Sharpe ratio).\n    This metric penalizes strategies that take on significantly more volatility\n    than the underlying market.\n    Returns: The calculated adjusted Sharpe ratio.\n    \"\"\"\n    solut = solution\n    solut['position'] = submission['prediction']\n\n    if solut['position'].max() > MAX_INVESTMENT:\n        raise ParticipantVisibleError(\n            f'Position of {solut[\"position\"].max()} exceeds maximum of {MAX_INVESTMENT}')\n        \n    if solut['position'].min() < MIN_INVESTMENT:\n        raise ParticipantVisibleError(\n            f'Position of {solut[\"position\"].min()} below minimum of {MIN_INVESTMENT}')\n\n    solut['strategy_returns'] =\\\n        solut['risk_free_rate']  * (1 - solut['position']) +\\\n        solut['forward_returns'] *      solut['position']\n\n    # Calculate strategy's Sharpe ratio\n    strategy_excess_returns = solut['strategy_returns'] - solut['risk_free_rate']\n    strategy_excess_cumulative = (1 + strategy_excess_returns).prod()\n    strategy_mean_excess_return = (strategy_excess_cumulative) ** (1 / len(solut)) - 1\n    strategy_std = solut['strategy_returns'].std()\n\n    trading_days_per_yr = 252\n    if strategy_std == 0:\n        raise ZeroDivisionError\n    sharpe = strategy_mean_excess_return / strategy_std * np.sqrt(trading_days_per_yr)\n    strategy_volatility = float(strategy_std * np.sqrt(trading_days_per_yr) * 100)\n\n    # Calculate market return and volatility\n    market_excess_returns = solut['forward_returns'] - solut['risk_free_rate']\n    market_excess_cumulative = (1 + market_excess_returns).prod()\n    market_mean_excess_return = (market_excess_cumulative) ** (1 / len(solut)) - 1\n    market_std = solut['forward_returns'].std()\n\n    \n    market_volatility = float(market_std * np.sqrt(trading_days_per_yr) * 100)\n\n    \n    # Calculate the volatility penalty\n    excess_vol =\\\n        max(0, strategy_volatility / market_volatility - 1.2) if market_volatility > 0 else 0\n\n    \n    vol_penalty = 1 + excess_vol\n    \n\n    # Calculate the return penalty\n    return_gap =\\\n        max(0, (market_mean_excess_return - strategy_mean_excess_return) * 100 * trading_days_per_yr)\n\n    \n    return_penalty = 1 + (return_gap**2) / 100\n\n    # Adjust the Sharpe ratio by the volatility and return penalty\n    adjusted_sharpe = sharpe / (vol_penalty * return_penalty)\n    \n    return min(float(adjusted_sharpe), 1_000_000)",
   "metadata": {
    "trusted": true,
    "_kg_hide-input": true,
    "_kg_hide-output": true,
    "jupyter": {
     "source_hidden": true
    }
   },
   "outputs": [],
   "execution_count": null
  },
  {
   "cell_type": "code",
   "source": "# Source - https://www.kaggle.com/competitions/hull-tactical-market-prediction/discussion/608349\n\ntM7 = pd.read_csv(\"/kaggle/input/hull-tactical-market-prediction/train.csv\",index_col=\"date_id\")\n\n\ndef fun(x):\n    solution   =  tM7[-180:].copy()\n    submission =  pd.DataFrame({'prediction': x.clip(0, 2)}, index=solution.index)\n    return - ScoreMetric(solution, submission, '')\n\n\nx0  = np.full(180, 0.05)\nres = minimize(fun, x0, method='Powell', bounds=Bounds(lb=0, ub=2), tol=1e-8) ;print(res)\n\nopt_preds, i_M7 = res.x, 0",
   "metadata": {
    "trusted": true,
    "_kg_hide-input": true,
    "_kg_hide-output": true,
    "jupyter": {
     "source_hidden": true
    }
   },
   "outputs": [],
   "execution_count": null
  },
  {
   "cell_type": "code",
   "source": "def predict_Model_7(test: pl.DataFrame) -> float:\n    \n    global i_M7, opt_preds\n    \n    pred = np.float64( opt_preds[i_M7] )\n    \n    print(f\"---> {pred:,.8f} | Iteration {i_M7}\")\n    \n    i_M7 = i_M7 + 1\n    \n    return pred",
   "metadata": {
    "trusted": true,
    "_kg_hide-input": true,
    "_kg_hide-output": true
   },
   "outputs": [],
   "execution_count": null
  },
  {
   "cell_type": "markdown",
   "source": "## 앙상블",
   "metadata": {}
  },
  {
   "cell_type": "code",
   "source": "def predict(test: pl.DataFrame) -> float:\n    \n    pred_7 = predict_Model_7(test)        # 17.396\n    pred_6 = predict_Model_6(test)        # 10.237\n    pred_5 = predict_Model_5(test)        # 10.217\n    pred_4 = predict_Model_4(test)        # 10.164\n    pred_1 = predict_Model_1(test)        # 10.147\n    pred_2 = predict_Model_2(test)        #  8.093\n\n    pred = pred_1 * 0.55 + 0.45 * pred_2  # 10.078\n    pred = pred_1 * 0.70 + 0.30 * pred_2  # 10.101\n\n    # LB = 17.300\n    pred =\\\n        pred_7 * 0.9850 +\\\n        pred_6 * 0.0100 +\\\n        pred_5 * 0.0030 +\\\n        pred_4 * 0.0010 +\\\n        pred_1 * 0.0007 +\\\n        pred_2 * 0.0003\n\n    # LB = 17.373\n    pred =\\\n        pred_7 * 0.9927 +\\\n        pred_6 * 0.0050 +\\\n        pred_5 * 0.0015 +\\\n        pred_4 * 0.0005 +\\\n        pred_1 * 0.0002 +\\\n        pred_2 * 0.0001\n\n    # LB = 17.387\n    pred =\\\n        pred_7 * 0.9959 +\\\n        pred_6 * 0.0025 +\\\n        pred_5 * 0.0012 +\\\n        pred_4 * 0.0003 +\\\n        pred_1 * 0.0001 +\\\n        pred_2 * 0.0000\n\n    # LB = 17.362\n    pred =\\\n        pred_7 * 0.9974 +\\\n        pred_6 * 0.0005 +\\\n        pred_5 * 0.0005 +\\\n        pred_4 * 0.0005 +\\\n        pred_1 * 0.0005 +\\\n        pred_2 * 0.0006\n\n    # LB = 17.392\n    pred =\\\n        pred_7 * 0.9990 +\\\n        pred_6 * 0.0003 +\\\n        pred_5 * 0.0002 +\\\n        pred_4 * 0.0002 +\\\n        pred_1 * 0.0002 +\\\n        pred_2 * 0.0001\n\n    # LB = ?\n    pred =\\\n        pred_7 * 0.99974 +\\\n        pred_6 * 0.00013 +\\\n        pred_5 * 0.00005 +\\\n        pred_4 * 0.00004 +\\\n        pred_1 * 0.00003 +\\\n        pred_2 * 0.00001\n\n    return pred",
   "metadata": {
    "trusted": true,
    "_kg_hide-input": true,
    "_kg_hide-output": true
   },
   "outputs": [],
   "execution_count": null
  },
  {
   "cell_type": "markdown",
   "source": "## 추론",
   "metadata": {}
  },
  {
   "cell_type": "code",
   "source": "inference_server = kaggle_evaluation.default_inference_server.DefaultInferenceServer(predict)\n\nif os.getenv('KAGGLE_IS_COMPETITION_RERUN'):\n    inference_server.serve()\nelse:\n    inference_server.run_local_gateway(('/kaggle/input/hull-tactical-market-prediction/',))",
   "metadata": {
    "trusted": true
   },
   "outputs": [],
   "execution_count": null
  }
 ]
}